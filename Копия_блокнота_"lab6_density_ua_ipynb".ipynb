{
  "cells": [
    {
      "cell_type": "markdown",
      "metadata": {
        "id": "view-in-github",
        "colab_type": "text"
      },
      "source": [
        "<a href=\"https://colab.research.google.com/github/kn201dvv/DataAnalys/blob/main/%D0%9A%D0%BE%D0%BF%D0%B8%D1%8F_%D0%B1%D0%BB%D0%BE%D0%BA%D0%BD%D0%BE%D1%82%D0%B0_%22lab6_density_ua_ipynb%22.ipynb\" target=\"_parent\"><img src=\"https://colab.research.google.com/assets/colab-badge.svg\" alt=\"Open In Colab\"/></a>"
      ]
    },
    {
      "cell_type": "markdown",
      "metadata": {
        "id": "VC6rr6SUyrT-"
      },
      "source": [
        "## Лабораторная 4: восстановление плотности распределения"
      ]
    },
    {
      "cell_type": "markdown",
      "metadata": {
        "id": "tsFqhVTlyrUB"
      },
      "source": [
        "Данными в этом задании являются измерения некоторых проверочных параметров на конвейерах  сборки оборудования Bosh (см. [конкурс](https://www.kaggle.com/c/bosch-production-line-performance) «Bosch Production Line Performance» на Kaggle). \n",
        "\n",
        "Все исходные данные Bosh не помещаются в оперативную память компьютера, поэтому в файле `data.csv` — лишь некоторые признаки. Прочтите данные из файла `data.csv`. Целевым признаком здесь является `Response` — наличие брака в оборудовании. "
      ]
    },
    {
      "cell_type": "code",
      "execution_count": null,
      "metadata": {
        "id": "S5b7uwoWyrUC"
      },
      "outputs": [],
      "source": [
        "import pandas as pd"
      ]
    },
    {
      "cell_type": "code",
      "execution_count": 4,
      "metadata": {
        "id": "t9O2PONQyrUD",
        "colab": {
          "base_uri": "https://localhost:8080/",
          "height": 73
        },
        "outputId": "2163b593-d9c4-49b4-91ae-34cd180f7e09"
      },
      "outputs": [
        {
          "output_type": "display_data",
          "data": {
            "text/plain": [
              "<IPython.core.display.HTML object>"
            ],
            "text/html": [
              "\n",
              "     <input type=\"file\" id=\"files-9cd8f335-a498-4226-ae8f-965163347eaa\" name=\"files[]\" multiple disabled\n",
              "        style=\"border:none\" />\n",
              "     <output id=\"result-9cd8f335-a498-4226-ae8f-965163347eaa\">\n",
              "      Upload widget is only available when the cell has been executed in the\n",
              "      current browser session. Please rerun this cell to enable.\n",
              "      </output>\n",
              "      <script>// Copyright 2017 Google LLC\n",
              "//\n",
              "// Licensed under the Apache License, Version 2.0 (the \"License\");\n",
              "// you may not use this file except in compliance with the License.\n",
              "// You may obtain a copy of the License at\n",
              "//\n",
              "//      http://www.apache.org/licenses/LICENSE-2.0\n",
              "//\n",
              "// Unless required by applicable law or agreed to in writing, software\n",
              "// distributed under the License is distributed on an \"AS IS\" BASIS,\n",
              "// WITHOUT WARRANTIES OR CONDITIONS OF ANY KIND, either express or implied.\n",
              "// See the License for the specific language governing permissions and\n",
              "// limitations under the License.\n",
              "\n",
              "/**\n",
              " * @fileoverview Helpers for google.colab Python module.\n",
              " */\n",
              "(function(scope) {\n",
              "function span(text, styleAttributes = {}) {\n",
              "  const element = document.createElement('span');\n",
              "  element.textContent = text;\n",
              "  for (const key of Object.keys(styleAttributes)) {\n",
              "    element.style[key] = styleAttributes[key];\n",
              "  }\n",
              "  return element;\n",
              "}\n",
              "\n",
              "// Max number of bytes which will be uploaded at a time.\n",
              "const MAX_PAYLOAD_SIZE = 100 * 1024;\n",
              "\n",
              "function _uploadFiles(inputId, outputId) {\n",
              "  const steps = uploadFilesStep(inputId, outputId);\n",
              "  const outputElement = document.getElementById(outputId);\n",
              "  // Cache steps on the outputElement to make it available for the next call\n",
              "  // to uploadFilesContinue from Python.\n",
              "  outputElement.steps = steps;\n",
              "\n",
              "  return _uploadFilesContinue(outputId);\n",
              "}\n",
              "\n",
              "// This is roughly an async generator (not supported in the browser yet),\n",
              "// where there are multiple asynchronous steps and the Python side is going\n",
              "// to poll for completion of each step.\n",
              "// This uses a Promise to block the python side on completion of each step,\n",
              "// then passes the result of the previous step as the input to the next step.\n",
              "function _uploadFilesContinue(outputId) {\n",
              "  const outputElement = document.getElementById(outputId);\n",
              "  const steps = outputElement.steps;\n",
              "\n",
              "  const next = steps.next(outputElement.lastPromiseValue);\n",
              "  return Promise.resolve(next.value.promise).then((value) => {\n",
              "    // Cache the last promise value to make it available to the next\n",
              "    // step of the generator.\n",
              "    outputElement.lastPromiseValue = value;\n",
              "    return next.value.response;\n",
              "  });\n",
              "}\n",
              "\n",
              "/**\n",
              " * Generator function which is called between each async step of the upload\n",
              " * process.\n",
              " * @param {string} inputId Element ID of the input file picker element.\n",
              " * @param {string} outputId Element ID of the output display.\n",
              " * @return {!Iterable<!Object>} Iterable of next steps.\n",
              " */\n",
              "function* uploadFilesStep(inputId, outputId) {\n",
              "  const inputElement = document.getElementById(inputId);\n",
              "  inputElement.disabled = false;\n",
              "\n",
              "  const outputElement = document.getElementById(outputId);\n",
              "  outputElement.innerHTML = '';\n",
              "\n",
              "  const pickedPromise = new Promise((resolve) => {\n",
              "    inputElement.addEventListener('change', (e) => {\n",
              "      resolve(e.target.files);\n",
              "    });\n",
              "  });\n",
              "\n",
              "  const cancel = document.createElement('button');\n",
              "  inputElement.parentElement.appendChild(cancel);\n",
              "  cancel.textContent = 'Cancel upload';\n",
              "  const cancelPromise = new Promise((resolve) => {\n",
              "    cancel.onclick = () => {\n",
              "      resolve(null);\n",
              "    };\n",
              "  });\n",
              "\n",
              "  // Wait for the user to pick the files.\n",
              "  const files = yield {\n",
              "    promise: Promise.race([pickedPromise, cancelPromise]),\n",
              "    response: {\n",
              "      action: 'starting',\n",
              "    }\n",
              "  };\n",
              "\n",
              "  cancel.remove();\n",
              "\n",
              "  // Disable the input element since further picks are not allowed.\n",
              "  inputElement.disabled = true;\n",
              "\n",
              "  if (!files) {\n",
              "    return {\n",
              "      response: {\n",
              "        action: 'complete',\n",
              "      }\n",
              "    };\n",
              "  }\n",
              "\n",
              "  for (const file of files) {\n",
              "    const li = document.createElement('li');\n",
              "    li.append(span(file.name, {fontWeight: 'bold'}));\n",
              "    li.append(span(\n",
              "        `(${file.type || 'n/a'}) - ${file.size} bytes, ` +\n",
              "        `last modified: ${\n",
              "            file.lastModifiedDate ? file.lastModifiedDate.toLocaleDateString() :\n",
              "                                    'n/a'} - `));\n",
              "    const percent = span('0% done');\n",
              "    li.appendChild(percent);\n",
              "\n",
              "    outputElement.appendChild(li);\n",
              "\n",
              "    const fileDataPromise = new Promise((resolve) => {\n",
              "      const reader = new FileReader();\n",
              "      reader.onload = (e) => {\n",
              "        resolve(e.target.result);\n",
              "      };\n",
              "      reader.readAsArrayBuffer(file);\n",
              "    });\n",
              "    // Wait for the data to be ready.\n",
              "    let fileData = yield {\n",
              "      promise: fileDataPromise,\n",
              "      response: {\n",
              "        action: 'continue',\n",
              "      }\n",
              "    };\n",
              "\n",
              "    // Use a chunked sending to avoid message size limits. See b/62115660.\n",
              "    let position = 0;\n",
              "    do {\n",
              "      const length = Math.min(fileData.byteLength - position, MAX_PAYLOAD_SIZE);\n",
              "      const chunk = new Uint8Array(fileData, position, length);\n",
              "      position += length;\n",
              "\n",
              "      const base64 = btoa(String.fromCharCode.apply(null, chunk));\n",
              "      yield {\n",
              "        response: {\n",
              "          action: 'append',\n",
              "          file: file.name,\n",
              "          data: base64,\n",
              "        },\n",
              "      };\n",
              "\n",
              "      let percentDone = fileData.byteLength === 0 ?\n",
              "          100 :\n",
              "          Math.round((position / fileData.byteLength) * 100);\n",
              "      percent.textContent = `${percentDone}% done`;\n",
              "\n",
              "    } while (position < fileData.byteLength);\n",
              "  }\n",
              "\n",
              "  // All done.\n",
              "  yield {\n",
              "    response: {\n",
              "      action: 'complete',\n",
              "    }\n",
              "  };\n",
              "}\n",
              "\n",
              "scope.google = scope.google || {};\n",
              "scope.google.colab = scope.google.colab || {};\n",
              "scope.google.colab._files = {\n",
              "  _uploadFiles,\n",
              "  _uploadFilesContinue,\n",
              "};\n",
              "})(self);\n",
              "</script> "
            ]
          },
          "metadata": {}
        },
        {
          "output_type": "stream",
          "name": "stdout",
          "text": [
            "Saving data6.csv to data6 (1).csv\n"
          ]
        }
      ],
      "source": [
        "# место для кода\n",
        "import pandas as pd\n",
        "import numpy as np\n",
        "from google.colab import files\n",
        "uploaded = files.upload()\n",
        "data = pd.read_csv('data6.csv')"
      ]
    },
    {
      "cell_type": "markdown",
      "metadata": {
        "id": "0Jtsjs1SyrUD"
      },
      "source": [
        "## 1 \n",
        "Постройте на одном графике два приближения к плотности распределения признака `L1_S24_F1846` для `Response = 0` и для `Response = 1`, используя одно из следующих ядер (номер ядра выберите по формуле: `(n mod 6) + 1`, где `n` — ваш номер в списке группы):\n",
        "\n",
        "    1.\tкусочно-постоянное (прямоугольное) -  tophat\n",
        "    2.\tгауссовское -  gaussian\n",
        "    3.\tлинейное (треугольник) -  linear\n",
        "    4.\tкосинусоидальное -  cosine\n",
        "    5.\tквадратичное (Епанечникова) -  epanechnikov\n",
        "    6.\tэкспоненциальное -  exponential\n"
      ]
    },
    {
      "cell_type": "markdown",
      "source": [
        "кусочно-постоянное (прямоугольное) -  tophat"
      ],
      "metadata": {
        "id": "oYXI5_rKJtnE"
      }
    },
    {
      "cell_type": "code",
      "execution_count": 14,
      "metadata": {
        "id": "81IdYJJYyrUE"
      },
      "outputs": [],
      "source": [
        "from sklearn.neighbors import KernelDensity\n",
        "import numpy as np\n",
        "\n",
        "import matplotlib.pyplot as plt"
      ]
    },
    {
      "cell_type": "markdown",
      "metadata": {
        "id": "J4unJlI4yrUE"
      },
      "source": [
        "*Help:*\n",
        "\n",
        "    i0 = data['Response'] == 0\n",
        "    kde0 = KernelDensity(kernel='gaussian', bandwidth=0.1).fit(data.loc[i0, 'L1_S24_F1846'].values.reshape(-1, 1))\n",
        "    X_plot = np.linspace(-1, 1, 1000).reshape(-1, 1)\n",
        "    Dens0 = np.exp(kde0.score_samples(X_plot))  # score_samples возвращает логарифм плотности"
      ]
    },
    {
      "cell_type": "code",
      "execution_count": 15,
      "metadata": {
        "id": "WCf5vMOKyrUE",
        "colab": {
          "base_uri": "https://localhost:8080/",
          "height": 452
        },
        "outputId": "181ba7db-53ac-47aa-bd98-cf26c9b3e5f0"
      },
      "outputs": [
        {
          "output_type": "display_data",
          "data": {
            "text/plain": [
              "<Figure size 640x480 with 1 Axes>"
            ],
            "image/png": "[encoded data removed]"
          },
          "metadata": {}
        }
      ],
      "source": [
        "# место для кода\n",
        "i0 = data['Response'] == 0\n",
        "kde0 = KernelDensity(kernel='tophat', bandwidth=0.1).fit(data.loc[i0, 'L1_S24_F1846'].values.reshape(-1, 1))\n",
        "\n",
        "i1 = data['Response'] == 1\n",
        "kde1 = KernelDensity(kernel='tophat', bandwidth=0.1).fit(data.loc[i1, 'L1_S24_F1846'].values.reshape(-1, 1))\n",
        "\n",
        "X_plot = np.linspace(-1, 1, 1000).reshape(-1, 1)\n",
        "\n",
        "Dens0 = np.exp(kde0.score_samples(X_plot))\n",
        "plt.plot(X_plot[:, 0], Dens0, label='Response = 0', linewidth=2)\n",
        "\n",
        "Dens1 = np.exp(kde1.score_samples(X_plot))\n",
        "plt.plot(X_plot[:, 0], Dens1, label='Response = 1', linewidth=2)\n",
        "\n",
        "plt.legend()\n",
        "plt.title('Плотность распределения признака L1_S24_F1846')\n",
        "plt.show()"
      ]
    },
    {
      "cell_type": "markdown",
      "metadata": {
        "id": "fooZvmptyrUF"
      },
      "source": [
        "Ответьте в комментариях на вопрос: является ли выборка хорошо разделимой по признаку  `L1_S24_F1846`?"
      ]
    },
    {
      "cell_type": "markdown",
      "source": [
        "Графіки мають частково схожу форму та перетинаються, що означає - розділення на класи на основі цієї ознаки може бути складним або неефективним."
      ],
      "metadata": {
        "id": "E9tvnHDCDlxa"
      }
    },
    {
      "cell_type": "markdown",
      "metadata": {
        "id": "nd9AeK47yrUG"
      },
      "source": [
        "## 2"
      ]
    },
    {
      "cell_type": "markdown",
      "metadata": {
        "id": "v-A_diSnyrUG"
      },
      "source": [
        "Разбейте выборку `data` на две равные части: тренировочную `dataTrain` и проверочную `dataTest`. "
      ]
    },
    {
      "cell_type": "code",
      "execution_count": 7,
      "metadata": {
        "id": "pwoY489ayrUH"
      },
      "outputs": [],
      "source": [
        "dataTrain = data.loc[0:data.shape[0] / 2, ].reset_index(drop=True)\n",
        "dataTest = data.loc[data.shape[0] / 2:data.shape[0], ].reset_index(drop=True)"
      ]
    },
    {
      "cell_type": "markdown",
      "metadata": {
        "id": "tBTWZRE8yrUH"
      },
      "source": [
        "Пользуясь кросс-валидацией, подберите **для каждого класса `Response` (`r=0` и `r=1`)** значение ширины ядра `bandwidth`, при котором логарифм правдоподобия максимален на проверочной выборке.\n",
        "\n",
        "*Help:*\n",
        "\n",
        "    r = 0\n",
        "    kde0 = KernelDensity(kernel='gaussian', bandwidth=0.05)\n",
        "    kde0.fit(dataTrain.loc[dataTrain['Response']==r, 'L1_S24_F1846'].values.reshape(-1, 1))\n",
        "    logProbability0 = kde0.score_samples(dataTest.loc[dataTest['Response']==r, 'L1_S24_F1846'].values.reshape(-1, 1))\n",
        "    logProbability0[np.isinf(logProbability0)] = -100 # заменяем -бесконечность\n",
        "    logLikehood0 = logProbability0.sum()\n",
        "    print(logLikehood0)"
      ]
    },
    {
      "cell_type": "code",
      "execution_count": 9,
      "metadata": {
        "id": "yEGxPq5wyrUI",
        "colab": {
          "base_uri": "https://localhost:8080/"
        },
        "outputId": "b61cc214-cf42-415d-dbe5-fac1d1a545c9"
      },
      "outputs": [
        {
          "output_type": "stream",
          "name": "stdout",
          "text": [
            "20544.807461121072\n",
            "103.98787944779144\n"
          ]
        }
      ],
      "source": [
        "# место для кода\n",
        "from sklearn.neighbors import KernelDensity\n",
        "from sklearn.model_selection import GridSearchCV\n",
        "r = 0\n",
        "kde0 = KernelDensity(kernel='gaussian', bandwidth=0.05)\n",
        "kde0.fit(dataTrain.loc[dataTrain['Response']==r, 'L1_S24_F1846'].values.reshape(-1, 1))\n",
        "logProbability0 = kde0.score_samples(dataTest.loc[dataTest['Response']==r, 'L1_S24_F1846'].values.reshape(-1, 1))\n",
        "logProbability0[np.isinf(logProbability0)] = -100 # заменяем -бесконечность\n",
        "logLikehood0 = logProbability0.sum()\n",
        "print(logLikehood0)\n",
        "r = 1\n",
        "kde1 = KernelDensity(kernel='gaussian', bandwidth=0.05)\n",
        "kde1.fit(dataTrain.loc[dataTrain['Response']==r, 'L1_S24_F1846'].values.reshape(-1, 1))\n",
        "logProbability1 = kde1.score_samples(dataTest.loc[dataTest['Response']==r, 'L1_S24_F1846'].values.reshape(-1, 1))\n",
        "logProbability1[np.isinf(logProbability1)] = -100 # заменяем -бесконечность\n",
        "logLikehood1 = logProbability1.sum()\n",
        "print(logLikehood1)"
      ]
    },
    {
      "cell_type": "markdown",
      "metadata": {
        "id": "YolW9UJ2yrUI"
      },
      "source": [
        "### 3"
      ]
    },
    {
      "cell_type": "markdown",
      "metadata": {
        "id": "2YxYpJfsyrUJ"
      },
      "source": [
        "Для найденных наилучших `bandwidth` вычислите `p(x|0)` и `p(x|1)` для тестовой выборки. "
      ]
    },
    {
      "cell_type": "code",
      "execution_count": 10,
      "metadata": {
        "id": "TnAKyFvzyrUJ"
      },
      "outputs": [],
      "source": [
        "predictionProbXafter0 = np.exp(kde0.score_samples(dataTest['L1_S24_F1846'].values.reshape(-1, 1)))\n",
        "predictionProbXafter1 = np.exp(kde1.score_samples(dataTest['L1_S24_F1846'].values.reshape(-1, 1)))"
      ]
    },
    {
      "cell_type": "markdown",
      "metadata": {
        "id": "9UPvKQ7LyrUJ"
      },
      "source": [
        "По формуле Байеса найдите затем `p(0|x)` и `p(1|x)`. Отсортируйте все объекты тестовой выборки по возрастанию предсказанной вероятности `p(1|x)`, выведите на экран вероятности для последних 10 объектов и рассчитайте количество бракованных деталей среди последних 100 объектов в отсортированном ряду.\n",
        "\n",
        "*Help:*\n",
        "    \n",
        "    ind = np.argsort(predictionProb1afterX) - сортировка, возвращающая индексы элементов\n",
        "    print(predictionProb1afterX[ind[-10:]]) - вывод последних 10 элементов\n",
        "    print(sum(dataTest.loc[ind[-100:],'Response'])) - количество бракованных среди 100 с максимальной вероятностью брака"
      ]
    },
    {
      "cell_type": "code",
      "execution_count": 11,
      "metadata": {
        "id": "MDW31HM6yrUK",
        "colab": {
          "base_uri": "https://localhost:8080/"
        },
        "outputId": "e670b52a-129a-49b5-a292-240a6a07dced"
      },
      "outputs": [
        {
          "output_type": "stream",
          "name": "stdout",
          "text": [
            "[0.99137411 0.99182216 0.99182216 0.9919103  0.99195385 0.99195385\n",
            " 0.99216571 0.99216571 0.99244186 0.99245004]\n",
            "29\n"
          ]
        }
      ],
      "source": [
        "# место для кода\n",
        "# вычисляем p(0|x) и p(1|x) по формуле Байеса\n",
        "# p(0|x) = p(x|0)*p(0) / [p(x|0)*p(0) + p(x|1)*p(1)]\n",
        "# где p(x|0) и p(x|1) - плотности распределения признака, p(0) и p(1) - априорные вероятности классов.\n",
        "p0afterX = predictionProbXafter0/(predictionProbXafter0 + predictionProbXafter1)\n",
        "p1afterX = predictionProbXafter1/(predictionProbXafter0 + predictionProbXafter1)\n",
        "\n",
        "# сортируем объекты тестовой выборки по возрастанию вероятности p(1|x)\n",
        "ind = np.argsort(p1afterX)\n",
        "\n",
        "# выводим вероятности для последних 10 объектов\n",
        "print(p1afterX[ind[-10:]])\n",
        "\n",
        "# вычисляем количество бракованных деталей среди последних 100 объектов в отсортированном ряду\n",
        "print(sum(dataTest.loc[ind[-100:], 'Response']))"
      ]
    }
  ],
  "metadata": {
    "kernelspec": {
      "display_name": "Python 3",
      "language": "python",
      "name": "python3"
    },
    "language_info": {
      "codemirror_mode": {
        "name": "ipython",
        "version": 3
      },
      "file_extension": ".py",
      "mimetype": "text/x-python",
      "name": "python",
      "nbconvert_exporter": "python",
      "pygments_lexer": "ipython3",
      "version": "3.6.5"
    },
    "colab": {
      "provenance": [],
      "include_colab_link": true
    }
  },
  "nbformat": 4,
  "nbformat_minor": 0
}